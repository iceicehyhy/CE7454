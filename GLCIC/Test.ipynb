{
 "cells": [
  {
   "cell_type": "code",
   "execution_count": null,
   "metadata": {},
   "outputs": [],
   "source": [
    "!cd GLCIC"
   ]
  },
  {
   "cell_type": "markdown",
   "metadata": {},
   "source": [
    "## Training"
   ]
  },
  {
   "cell_type": "markdown",
   "metadata": {},
   "source": [
    "!python train.py datasets/dataset/ results/result/"
   ]
  },
  {
   "cell_type": "code",
   "execution_count": 1,
   "metadata": {},
   "outputs": [],
   "source": [
    "import torch\n",
    "import torch.nn as nn\n",
    "import numpy\n",
    "import math\n",
    "import cv2\n",
    "#from PIL import Image\n",
    "#import torchvision.transforms as transforms\n"
   ]
  },
  {
   "cell_type": "code",
   "execution_count": 12,
   "metadata": {},
   "outputs": [
    {
     "name": "stdout",
     "output_type": "stream",
     "text": [
      "385\n"
     ]
    }
   ],
   "source": [
    "import os\n",
    "from os import listdir\n",
    "from os.path import isfile, join\n",
    "\n",
    "test_path = \"./test/Origin\"\n",
    "test_imgs = [img for img in listdir(test_path) if isfile(join(test_path, img))]\n",
    "test_imgs.sort()\n",
    "print(len(test_imgs))"
   ]
  },
  {
   "cell_type": "code",
   "execution_count": 19,
   "metadata": {},
   "outputs": [
    {
     "name": "stdout",
     "output_type": "stream",
     "text": [
      "predicted 20 images out of 385 total\n",
      "predicted 40 images out of 385 total\n",
      "predicted 60 images out of 385 total\n",
      "predicted 80 images out of 385 total\n",
      "predicted 100 images out of 385 total\n",
      "predicted 120 images out of 385 total\n",
      "predicted 140 images out of 385 total\n",
      "predicted 160 images out of 385 total\n",
      "predicted 180 images out of 385 total\n",
      "predicted 200 images out of 385 total\n",
      "predicted 220 images out of 385 total\n",
      "predicted 240 images out of 385 total\n",
      "predicted 260 images out of 385 total\n",
      "predicted 280 images out of 385 total\n",
      "predicted 300 images out of 385 total\n",
      "predicted 320 images out of 385 total\n",
      "predicted 340 images out of 385 total\n",
      "predicted 360 images out of 385 total\n",
      "predicted 380 images out of 385 total\n"
     ]
    }
   ],
   "source": [
    "import predict\n",
    "\n",
    "count = 0\n",
    "\n",
    "for img in test_imgs:\n",
    "    os.system(\"python predict.py results/result/phase_3/model_cn_step500 results/result/config.json {}\".format(img))\n",
    "    count += 1\n",
    "    if count % 20 == 0:\n",
    "        print(\"predicted {} images out of {} total\".format(count, len(test_imgs)))"
   ]
  },
  {
   "cell_type": "code",
   "execution_count": null,
   "metadata": {},
   "outputs": [],
   "source": [
    "!pip install scikit-image"
   ]
  },
  {
   "cell_type": "code",
   "execution_count": 4,
   "metadata": {},
   "outputs": [],
   "source": [
    "from skimage.metrics import peak_signal_noise_ratio as psnr"
   ]
  },
  {
   "cell_type": "code",
   "execution_count": 24,
   "metadata": {},
   "outputs": [
    {
     "name": "stdout",
     "output_type": "stream",
     "text": [
      "Average PSNR is 28.276538194126463 for total 385 images\n"
     ]
    }
   ],
   "source": [
    "psnr_score = 0\n",
    "count = 0\n",
    "\n",
    "for img in test_imgs:\n",
    "    origin = cv2.imread(\"./test/Origin/\" + img)\n",
    "    inpainted = cv2.imread(\"./test/Inpainted/\" + img)\n",
    "    if not inpainted is None:\n",
    "        if not origin is None:\n",
    "            psnr_score += psnr(origin, inpainted)\n",
    "            count += 1\n",
    "\n",
    "print(\"Average PSNR is %s for total %s images\" % (psnr_score/count, len(test_imgs)))\n",
    "    \n"
   ]
  },
  {
   "cell_type": "code",
   "execution_count": 18,
   "metadata": {},
   "outputs": [
    {
     "name": "stdout",
     "output_type": "stream",
     "text": [
      "34.03859631779925\n"
     ]
    }
   ],
   "source": [
    "origin = cv2.imread(\"./test/Origin/\" + \"0020.jpg\")\n",
    "inpainted = cv2.imread(\"./test/Inpainted/\" + \"0020.jpg\")\n",
    "print(psnr(origin, inpainted))"
   ]
  },
  {
   "cell_type": "code",
   "execution_count": null,
   "metadata": {},
   "outputs": [],
   "source": []
  }
 ],
 "metadata": {
  "kernelspec": {
   "display_name": "Python 3",
   "language": "python",
   "name": "python3"
  },
  "language_info": {
   "codemirror_mode": {
    "name": "ipython",
    "version": 3
   },
   "file_extension": ".py",
   "mimetype": "text/x-python",
   "name": "python",
   "nbconvert_exporter": "python",
   "pygments_lexer": "ipython3",
   "version": "3.6.9"
  }
 },
 "nbformat": 4,
 "nbformat_minor": 2
}
